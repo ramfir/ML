{
 "cells": [
  {
   "cell_type": "markdown",
   "metadata": {},
   "source": [
    "# Задание 1"
   ]
  },
  {
   "cell_type": "code",
   "execution_count": 14,
   "metadata": {},
   "outputs": [],
   "source": [
    "import pandas as pd\n",
    "import numpy as np\n",
    "import matplotlib.pyplot as plt\n",
    "import scipy.stats\n",
    "import matplotlib.patches\n",
    "from sklearn.linear_model import LinearRegression\n",
    "from matplotlib import rcParams"
   ]
  },
  {
   "cell_type": "code",
   "execution_count": 17,
   "metadata": {},
   "outputs": [
    {
     "data": {
      "text/html": [
       "<div>\n",
       "<style scoped>\n",
       "    .dataframe tbody tr th:only-of-type {\n",
       "        vertical-align: middle;\n",
       "    }\n",
       "\n",
       "    .dataframe tbody tr th {\n",
       "        vertical-align: top;\n",
       "    }\n",
       "\n",
       "    .dataframe thead th {\n",
       "        text-align: right;\n",
       "    }\n",
       "</style>\n",
       "<table border=\"1\" class=\"dataframe\">\n",
       "  <thead>\n",
       "    <tr style=\"text-align: right;\">\n",
       "      <th></th>\n",
       "      <th>Unnamed: 0</th>\n",
       "      <th>sex</th>\n",
       "      <th>weight</th>\n",
       "      <th>height</th>\n",
       "      <th>repwt</th>\n",
       "      <th>repht</th>\n",
       "    </tr>\n",
       "  </thead>\n",
       "  <tbody>\n",
       "    <tr>\n",
       "      <th>0</th>\n",
       "      <td>1</td>\n",
       "      <td>M</td>\n",
       "      <td>77</td>\n",
       "      <td>182</td>\n",
       "      <td>77.0</td>\n",
       "      <td>180.0</td>\n",
       "    </tr>\n",
       "    <tr>\n",
       "      <th>1</th>\n",
       "      <td>2</td>\n",
       "      <td>F</td>\n",
       "      <td>58</td>\n",
       "      <td>161</td>\n",
       "      <td>51.0</td>\n",
       "      <td>159.0</td>\n",
       "    </tr>\n",
       "    <tr>\n",
       "      <th>2</th>\n",
       "      <td>3</td>\n",
       "      <td>F</td>\n",
       "      <td>53</td>\n",
       "      <td>161</td>\n",
       "      <td>54.0</td>\n",
       "      <td>158.0</td>\n",
       "    </tr>\n",
       "    <tr>\n",
       "      <th>3</th>\n",
       "      <td>4</td>\n",
       "      <td>M</td>\n",
       "      <td>68</td>\n",
       "      <td>177</td>\n",
       "      <td>70.0</td>\n",
       "      <td>175.0</td>\n",
       "    </tr>\n",
       "    <tr>\n",
       "      <th>4</th>\n",
       "      <td>5</td>\n",
       "      <td>F</td>\n",
       "      <td>59</td>\n",
       "      <td>157</td>\n",
       "      <td>59.0</td>\n",
       "      <td>155.0</td>\n",
       "    </tr>\n",
       "    <tr>\n",
       "      <th>...</th>\n",
       "      <td>...</td>\n",
       "      <td>...</td>\n",
       "      <td>...</td>\n",
       "      <td>...</td>\n",
       "      <td>...</td>\n",
       "      <td>...</td>\n",
       "    </tr>\n",
       "    <tr>\n",
       "      <th>195</th>\n",
       "      <td>196</td>\n",
       "      <td>M</td>\n",
       "      <td>74</td>\n",
       "      <td>175</td>\n",
       "      <td>71.0</td>\n",
       "      <td>175.0</td>\n",
       "    </tr>\n",
       "    <tr>\n",
       "      <th>196</th>\n",
       "      <td>197</td>\n",
       "      <td>M</td>\n",
       "      <td>83</td>\n",
       "      <td>180</td>\n",
       "      <td>80.0</td>\n",
       "      <td>180.0</td>\n",
       "    </tr>\n",
       "    <tr>\n",
       "      <th>197</th>\n",
       "      <td>198</td>\n",
       "      <td>M</td>\n",
       "      <td>81</td>\n",
       "      <td>175</td>\n",
       "      <td>NaN</td>\n",
       "      <td>NaN</td>\n",
       "    </tr>\n",
       "    <tr>\n",
       "      <th>198</th>\n",
       "      <td>199</td>\n",
       "      <td>M</td>\n",
       "      <td>90</td>\n",
       "      <td>181</td>\n",
       "      <td>91.0</td>\n",
       "      <td>178.0</td>\n",
       "    </tr>\n",
       "    <tr>\n",
       "      <th>199</th>\n",
       "      <td>200</td>\n",
       "      <td>M</td>\n",
       "      <td>79</td>\n",
       "      <td>177</td>\n",
       "      <td>81.0</td>\n",
       "      <td>178.0</td>\n",
       "    </tr>\n",
       "  </tbody>\n",
       "</table>\n",
       "<p>200 rows × 6 columns</p>\n",
       "</div>"
      ],
      "text/plain": [
       "     Unnamed: 0 sex  weight  height  repwt  repht\n",
       "0             1   M      77     182   77.0  180.0\n",
       "1             2   F      58     161   51.0  159.0\n",
       "2             3   F      53     161   54.0  158.0\n",
       "3             4   M      68     177   70.0  175.0\n",
       "4             5   F      59     157   59.0  155.0\n",
       "..          ...  ..     ...     ...    ...    ...\n",
       "195         196   M      74     175   71.0  175.0\n",
       "196         197   M      83     180   80.0  180.0\n",
       "197         198   M      81     175    NaN    NaN\n",
       "198         199   M      90     181   91.0  178.0\n",
       "199         200   M      79     177   81.0  178.0\n",
       "\n",
       "[200 rows x 6 columns]"
      ]
     },
     "execution_count": 17,
     "metadata": {},
     "output_type": "execute_result"
    }
   ],
   "source": [
    "plot_w = 13\n",
    "plot_h = 7\n",
    "rcParams['figure.figsize'] = plot_w, plot_h\n",
    "davis_df = pd.read_csv(\"C:\\\\Users\\\\firda\\\\Desktop\\\\ML\\\\Laba 2\\\\Davis.csv\")\n",
    "davis_df"
   ]
  },
  {
   "cell_type": "markdown",
   "metadata": {},
   "source": [
    "Пропорции мужчин в датасете"
   ]
  },
  {
   "cell_type": "code",
   "execution_count": 80,
   "metadata": {},
   "outputs": [
    {
     "data": {
      "text/plain": [
       "0.44"
      ]
     },
     "execution_count": 80,
     "metadata": {},
     "output_type": "execute_result"
    }
   ],
   "source": [
    "def male_proportion(df):\n",
    "    df.groupby([df.sex == \"M\"]).count()\n",
    "    M_count = len(df[df.sex == \"M\"].index)\n",
    "    return M_count / len(df.index)\n",
    "\n",
    "male_proportion(davis_df)"
   ]
  },
  {
   "cell_type": "markdown",
   "metadata": {},
   "source": [
    "Выбросы"
   ]
  },
  {
   "cell_type": "code",
   "execution_count": 81,
   "metadata": {},
   "outputs": [
    {
     "data": {
      "text/plain": [
       "Text(0, 0.5, 'weight')"
      ]
     },
     "execution_count": 81,
     "metadata": {},
     "output_type": "execute_result"
    },
    {
     "data": {
      "image/png": "[encoded data removed]",
      "text/plain": [
       "<Figure size 936x504 with 1 Axes>"
      ]
     },
     "metadata": {
      "needs_background": "light"
     },
     "output_type": "display_data"
    }
   ],
   "source": [
    "plt.scatter(x=davis_df[\"height\"], y=davis_df[\"weight\"])\n",
    "plt.xlabel(\"height\")\n",
    "plt.ylabel(\"weight\")"
   ]
  },
  {
   "cell_type": "code",
   "execution_count": 82,
   "metadata": {},
   "outputs": [
    {
     "data": {
      "text/plain": [
       "Text(0, 0.5, 'repwt')"
      ]
     },
     "execution_count": 82,
     "metadata": {},
     "output_type": "execute_result"
    },
    {
     "data": {
      "image/png": "[encoded data removed]",
      "text/plain": [
       "<Figure size 936x504 with 1 Axes>"
      ]
     },
     "metadata": {
      "needs_background": "light"
     },
     "output_type": "display_data"
    }
   ],
   "source": [
    "plt.scatter(x=davis_df[\"repht\"], y=davis_df[\"repwt\"])\n",
    "plt.xlabel(\"repht\")\n",
    "plt.ylabel(\"repwt\")"
   ]
  },
  {
   "cell_type": "code",
   "execution_count": 83,
   "metadata": {},
   "outputs": [
    {
     "data": {
      "text/plain": [
       "Text(0, 0.5, 'weight')"
      ]
     },
     "execution_count": 83,
     "metadata": {},
     "output_type": "execute_result"
    },
    {
     "data": {
      "image/png": "[encoded data removed]",
      "text/plain": [
       "<Figure size 936x504 with 1 Axes>"
      ]
     },
     "metadata": {
      "needs_background": "light"
     },
     "output_type": "display_data"
    }
   ],
   "source": [
    "davis_df.where(davis_df[\"height\"] > 100, inplace=True)\n",
    "davis_df.fillna(davis_df.mean(), inplace=True)\n",
    "plt.scatter(x=davis_df[\"height\"], y=davis_df[\"weight\"])\n",
    "plt.xlabel(\"height\")\n",
    "plt.ylabel(\"weight\")"
   ]
  },
  {
   "cell_type": "markdown",
   "metadata": {},
   "source": [
    "Разделение датасета на 2 выборки (train, test) из 100 человек, с сохранением пропорции полов."
   ]
  },
  {
   "cell_type": "code",
   "execution_count": 84,
   "metadata": {},
   "outputs": [
    {
     "data": {
      "text/plain": [
       "0.44"
      ]
     },
     "execution_count": 84,
     "metadata": {},
     "output_type": "execute_result"
    }
   ],
   "source": [
    "male_proportion(davis_df)"
   ]
  },
  {
   "cell_type": "code",
   "execution_count": 85,
   "metadata": {},
   "outputs": [
    {
     "data": {
      "text/plain": [
       "(0.44, 0.44)"
      ]
     },
     "execution_count": 85,
     "metadata": {},
     "output_type": "execute_result"
    }
   ],
   "source": [
    "male_davis_df = davis_df[davis_df.sex == \"M\"]\n",
    "female_davis_df = davis_df[davis_df.sex == \"F\"]\n",
    "train_davis_df = male_davis_df.sample(frac=0.5).append(female_davis_df.sample(frac=0.5))\n",
    "test_davis_df = pd.concat([davis_df, train_davis_df]).drop_duplicates(keep=False)\n",
    "male_proportion(train_davis_df), male_proportion(test_davis_df)"
   ]
  },
  {
   "cell_type": "markdown",
   "metadata": {},
   "source": [
    "Отображение train-выборки в виде точек на графике"
   ]
  },
  {
   "cell_type": "code",
   "execution_count": 86,
   "metadata": {},
   "outputs": [
    {
     "data": {
      "text/plain": [
       "<matplotlib.legend.Legend at 0x14ff286d1c8>"
      ]
     },
     "execution_count": 86,
     "metadata": {},
     "output_type": "execute_result"
    },
    {
     "data": {
      "image/png": "[encoded data removed]",
      "text/plain": [
       "<Figure size 936x504 with 1 Axes>"
      ]
     },
     "metadata": {
      "needs_background": "light"
     },
     "output_type": "display_data"
    }
   ],
   "source": [
    "plt.scatter(x=train_davis_df.where(train_davis_df[\"sex\"] == \"M\")[\"height\"],\n",
    "            y=train_davis_df.where(train_davis_df[\"sex\"] == \"M\")[\"weight\"], label=\"M\")\n",
    "plt.scatter(x=train_davis_df.where(train_davis_df[\"sex\"] == \"F\")[\"height\"],\n",
    "            y=train_davis_df.where(train_davis_df[\"sex\"] == \"F\")[\"weight\"], label=\"F\")\n",
    "plt.xlabel(\"height\")\n",
    "plt.ylabel(\"weight\")\n",
    "plt.legend()"
   ]
  },
  {
   "cell_type": "markdown",
   "metadata": {},
   "source": [
    "Общая гистограмма роста и веса"
   ]
  },
  {
   "cell_type": "code",
   "execution_count": 87,
   "metadata": {},
   "outputs": [
    {
     "data": {
      "text/plain": [
       "Text(0.5, 0, 'weight')"
      ]
     },
     "execution_count": 87,
     "metadata": {},
     "output_type": "execute_result"
    },
    {
     "data": {
      "image/png": "[encoded data removed]",
      "text/plain": [
       "<Figure size 936x504 with 2 Axes>"
      ]
     },
     "metadata": {
      "needs_background": "light"
     },
     "output_type": "display_data"
    }
   ],
   "source": [
    "fig, ax = plt.subplots(ncols=2)\n",
    "ax[0].hist(train_davis_df[\"height\"])\n",
    "ax[0].set_xlabel(\"height\")\n",
    "ax[1].hist(train_davis_df[\"weight\"])\n",
    "ax[1].set_xlabel(\"weight\")"
   ]
  },
  {
   "cell_type": "markdown",
   "metadata": {},
   "source": [
    "Гистограмма роста и веса мужчин"
   ]
  },
  {
   "cell_type": "code",
   "execution_count": 88,
   "metadata": {},
   "outputs": [
    {
     "data": {
      "text/plain": [
       "Text(0.5, 0, 'weight')"
      ]
     },
     "execution_count": 88,
     "metadata": {},
     "output_type": "execute_result"
    },
    {
     "data": {
      "image/png": "[encoded data removed]",
      "text/plain": [
       "<Figure size 936x504 with 2 Axes>"
      ]
     },
     "metadata": {
      "needs_background": "light"
     },
     "output_type": "display_data"
    }
   ],
   "source": [
    "fig, ax = plt.subplots(ncols=2)\n",
    "ax[0].hist(train_davis_df.where(train_davis_df[\"sex\"]==\"M\")[\"height\"])\n",
    "ax[0].set_xlabel(\"height\")\n",
    "ax[1].hist(train_davis_df.where(train_davis_df[\"sex\"]==\"M\")[\"weight\"])\n",
    "ax[1].set_xlabel(\"weight\")"
   ]
  },
  {
   "cell_type": "markdown",
   "metadata": {},
   "source": [
    "Гистограмма роста и веса женщин"
   ]
  },
  {
   "cell_type": "code",
   "execution_count": 89,
   "metadata": {},
   "outputs": [
    {
     "data": {
      "text/plain": [
       "Text(0.5, 0, 'weight')"
      ]
     },
     "execution_count": 89,
     "metadata": {},
     "output_type": "execute_result"
    },
    {
     "data": {
      "image/png": "[encoded data removed]",
      "text/plain": [
       "<Figure size 936x504 with 2 Axes>"
      ]
     },
     "metadata": {
      "needs_background": "light"
     },
     "output_type": "display_data"
    }
   ],
   "source": [
    "fig, ax = plt.subplots(ncols=2)\n",
    "ax[0].hist(train_davis_df.where(train_davis_df[\"sex\"]==\"F\")[\"height\"])\n",
    "ax[0].set_xlabel(\"height\")\n",
    "ax[1].hist(train_davis_df.where(train_davis_df[\"sex\"]==\"F\")[\"weight\"])\n",
    "ax[1].set_xlabel(\"weight\")"
   ]
  },
  {
   "cell_type": "markdown",
   "metadata": {},
   "source": [
    "Общие величины (repwt - weight)"
   ]
  },
  {
   "cell_type": "code",
   "execution_count": 90,
   "metadata": {},
   "outputs": [
    {
     "data": {
      "text/plain": [
       "Text(0.5, 0, 'repht - height')"
      ]
     },
     "execution_count": 90,
     "metadata": {},
     "output_type": "execute_result"
    },
    {
     "data": {
      "image/png": "[encoded data removed]",
      "text/plain": [
       "<Figure size 936x504 with 2 Axes>"
      ]
     },
     "metadata": {
      "needs_background": "light"
     },
     "output_type": "display_data"
    }
   ],
   "source": [
    "fig, ax = plt.subplots(ncols=2)\n",
    "ax[0].hist(train_davis_df[\"repwt\"] - train_davis_df[\"weight\"])\n",
    "ax[0].set_xlabel(\"repwt - weight\")\n",
    "ax[1].hist(train_davis_df[\"repht\"] - train_davis_df[\"height\"])\n",
    "ax[1].set_xlabel(\"repht - height\")"
   ]
  },
  {
   "cell_type": "markdown",
   "metadata": {},
   "source": [
    "Величины (repwt - weight) мужчин"
   ]
  },
  {
   "cell_type": "code",
   "execution_count": 91,
   "metadata": {},
   "outputs": [
    {
     "data": {
      "text/plain": [
       "Text(0.5, 0, 'repht - height')"
      ]
     },
     "execution_count": 91,
     "metadata": {},
     "output_type": "execute_result"
    },
    {
     "data": {
      "image/png": "[encoded data removed]",
      "text/plain": [
       "<Figure size 936x504 with 2 Axes>"
      ]
     },
     "metadata": {
      "needs_background": "light"
     },
     "output_type": "display_data"
    }
   ],
   "source": [
    "fig, ax = plt.subplots(ncols=2)\n",
    "ax[0].hist(train_davis_df.where(train_davis_df[\"sex\"]==\"M\")[\"repwt\"] - train_davis_df.where(train_davis_df[\"sex\"]==\"M\")[\"weight\"])\n",
    "ax[0].set_xlabel(\"repwt - weight\")\n",
    "ax[1].hist(train_davis_df.where(train_davis_df[\"sex\"]==\"M\")[\"repht\"] - train_davis_df.where(train_davis_df[\"sex\"]==\"M\")[\"height\"])\n",
    "ax[1].set_xlabel(\"repht - height\")"
   ]
  },
  {
   "cell_type": "markdown",
   "metadata": {},
   "source": [
    "Величины (repwt - weight) женщин"
   ]
  },
  {
   "cell_type": "code",
   "execution_count": 92,
   "metadata": {},
   "outputs": [
    {
     "data": {
      "text/plain": [
       "Text(0.5, 0, 'repht - height')"
      ]
     },
     "execution_count": 92,
     "metadata": {},
     "output_type": "execute_result"
    },
    {
     "data": {
      "image/png": "[encoded data removed]",
      "text/plain": [
       "<Figure size 936x504 with 2 Axes>"
      ]
     },
     "metadata": {
      "needs_background": "light"
     },
     "output_type": "display_data"
    }
   ],
   "source": [
    "fig, ax = plt.subplots(ncols=2)\n",
    "ax[0].hist(train_davis_df.where(train_davis_df[\"sex\"]==\"F\")[\"repwt\"] - train_davis_df.where(train_davis_df[\"sex\"]==\"F\")[\"weight\"])\n",
    "ax[0].set_xlabel(\"repwt - weight\")\n",
    "ax[1].hist(train_davis_df.where(train_davis_df[\"sex\"]==\"F\")[\"repht\"] - train_davis_df.where(train_davis_df[\"sex\"]==\"F\")[\"height\"])\n",
    "ax[1].set_xlabel(\"repht - height\")"
   ]
  },
  {
   "cell_type": "markdown",
   "metadata": {},
   "source": [
    "Генератор данных (sex, height, weight)"
   ]
  },
  {
   "cell_type": "code",
   "execution_count": 93,
   "metadata": {},
   "outputs": [
    {
     "data": {
      "text/plain": [
       "array([[  1.        , 157.4145044 ,  49.95534021],\n",
       "       [  1.        , 165.14792527,  49.22352463],\n",
       "       [  0.        , 163.02515158,  52.66759618],\n",
       "       [  1.        , 168.61163001,  62.71927462],\n",
       "       [  0.        , 185.8217954 ,  88.30321556],\n",
       "       [  0.        , 170.05087436,  67.29210097],\n",
       "       [  0.        , 169.80905426,  71.14762022],\n",
       "       [  0.        , 175.84546308,  79.46876181],\n",
       "       [  1.        , 168.67943945,  49.53244716],\n",
       "       [  1.        , 162.05823168,  55.48132381],\n",
       "       [  1.        , 183.73220975,  64.02074574],\n",
       "       [  0.        , 179.41714453,  98.99733147],\n",
       "       [  1.        , 171.4168779 ,  61.63233448],\n",
       "       [  1.        , 163.79880766,  50.41477556],\n",
       "       [  0.        , 186.99764037,  73.74026785],\n",
       "       [  0.        , 165.89009672,  65.15183671],\n",
       "       [  0.        , 174.48750348,  58.1686663 ],\n",
       "       [  1.        , 171.42865702,  63.47004522],\n",
       "       [  1.        , 169.19759279,  58.98791409],\n",
       "       [  1.        , 167.69077635,  63.43653728],\n",
       "       [  1.        , 161.85095199,  54.61799019],\n",
       "       [  1.        , 164.55831401,  43.41905167],\n",
       "       [  1.        , 154.66588688,  50.06791632],\n",
       "       [  1.        , 171.52340885,  67.88829198],\n",
       "       [  0.        , 174.1236201 ,  67.3703265 ],\n",
       "       [  0.        , 183.25967198,  88.07809763],\n",
       "       [  0.        , 178.33225132,  86.14311806],\n",
       "       [  0.        , 184.16897047,  73.84290303],\n",
       "       [  1.        , 164.4959726 ,  54.39709679],\n",
       "       [  1.        , 172.28502636,  61.11011556],\n",
       "       [  1.        , 177.03660879,  62.50906019],\n",
       "       [  1.        , 169.96909158,  65.06612157],\n",
       "       [  0.        , 180.83325606,  86.89978666],\n",
       "       [  1.        , 170.02223735,  69.11602529],\n",
       "       [  1.        , 160.8523378 ,  57.47247708],\n",
       "       [  0.        , 175.65714471,  81.71603775],\n",
       "       [  1.        , 170.386538  ,  64.7109884 ],\n",
       "       [  1.        , 167.29934902,  70.03903034],\n",
       "       [  0.        , 183.81743352,  76.909135  ],\n",
       "       [  0.        , 174.38403559,  70.33549172],\n",
       "       [  1.        , 180.6273573 ,  56.82772886],\n",
       "       [  0.        , 179.49621932,  83.37712248],\n",
       "       [  0.        , 168.88520357,  82.32760701],\n",
       "       [  1.        , 170.88198043,  54.6944741 ],\n",
       "       [  1.        , 163.73594007,  54.93161989],\n",
       "       [  0.        , 185.54885889,  77.05803563],\n",
       "       [  1.        , 174.35471347,  57.59254444],\n",
       "       [  1.        , 167.40131127,  55.72320011],\n",
       "       [  1.        , 168.02181041,  60.4546215 ],\n",
       "       [  0.        , 167.36257038,  73.22719741],\n",
       "       [  1.        , 173.52972808,  79.16350899],\n",
       "       [  1.        , 167.57265692,  66.37471991],\n",
       "       [  0.        , 188.82313815,  82.33620977],\n",
       "       [  0.        , 179.25148898,  84.63690115],\n",
       "       [  0.        , 169.61552465,  62.39463621],\n",
       "       [  1.        , 177.04787294,  67.07085631],\n",
       "       [  1.        , 165.63665935,  52.67089868],\n",
       "       [  0.        , 173.56968733,  58.24748281],\n",
       "       [  1.        , 167.43151473,  53.3183044 ],\n",
       "       [  0.        , 173.19781633,  60.76535279],\n",
       "       [  1.        , 168.68946394,  47.060904  ],\n",
       "       [  0.        , 182.03970624,  78.66817663],\n",
       "       [  1.        , 154.50077886,  52.56488179],\n",
       "       [  1.        , 172.12299244,  67.26381146],\n",
       "       [  0.        , 175.67376824,  74.56406761],\n",
       "       [  1.        , 162.41444987,  49.40897871],\n",
       "       [  1.        , 150.08979522,  50.55423385],\n",
       "       [  0.        , 175.36793684,  76.98355371],\n",
       "       [  1.        , 176.04802942,  61.89623146],\n",
       "       [  0.        , 189.78621732,  75.77860041],\n",
       "       [  1.        , 157.64531743,  40.98464719],\n",
       "       [  0.        , 192.52502065,  77.08023697],\n",
       "       [  0.        , 160.72870376,  45.81516535],\n",
       "       [  1.        , 158.62326508,  61.38468957],\n",
       "       [  0.        , 188.51400235, 100.29210515],\n",
       "       [  0.        , 183.53273198,  76.45128707],\n",
       "       [  1.        , 170.1493207 ,  63.2170681 ],\n",
       "       [  1.        , 166.8806503 ,  50.35346846],\n",
       "       [  1.        , 164.51069426,  59.03771979],\n",
       "       [  1.        , 160.47781427,  57.10167095],\n",
       "       [  0.        , 183.70369724,  80.0002452 ],\n",
       "       [  0.        , 188.28091591,  82.20813566],\n",
       "       [  0.        , 183.28536537,  83.37629942],\n",
       "       [  0.        , 189.59071   ,  81.91458155],\n",
       "       [  1.        , 160.09608197,  59.8729164 ],\n",
       "       [  1.        , 162.7326438 ,  54.34362194],\n",
       "       [  1.        , 163.16290513,  62.29309688],\n",
       "       [  1.        , 165.05081311,  59.88327729],\n",
       "       [  1.        , 161.16183483,  61.40296976],\n",
       "       [  0.        , 181.94083989,  68.85230579],\n",
       "       [  0.        , 178.03593534,  90.20799052],\n",
       "       [  0.        , 178.88916581,  77.52733065],\n",
       "       [  0.        , 170.17372244,  56.03188036],\n",
       "       [  0.        , 178.10004492,  71.61983323],\n",
       "       [  0.        , 182.93610246,  81.31935456],\n",
       "       [  0.        , 175.59508077,  70.89643479],\n",
       "       [  1.        , 146.46671421,  52.62058046],\n",
       "       [  1.        , 161.92566657,  40.69602229],\n",
       "       [  1.        , 162.95264421,  48.04527069],\n",
       "       [  1.        , 168.05911139,  55.39310808]])"
      ]
     },
     "execution_count": 93,
     "metadata": {},
     "output_type": "execute_result"
    }
   ],
   "source": [
    "class PointGenerator:\n",
    "    def __init__(self):\n",
    "        self.p_woman = None\n",
    "        self.p_man = None\n",
    "        self.mean_height = { \"woman\": None, \"man\": None }\n",
    "        self.mean_weight = { \"woman\": None, \"man\": None }\n",
    "        self.cov_matrix = { \"woman\": None, \"man\": None }\n",
    "         \n",
    "        \n",
    "    def fit(self, df):\n",
    "        self.p_man = male_proportion(df) \n",
    "        self.p_woman = 1 - self.p_man\n",
    "        self.mean_height[\"woman\"] = np.mean(df.where(df[\"sex\"] == \"F\")[\"height\"])\n",
    "        self.mean_height[\"man\"] = np.mean(df.where(df[\"sex\"] == \"M\")[\"height\"])\n",
    "        self.mean_weight[\"woman\"] = np.mean(df.where(df[\"sex\"] == \"F\")[\"weight\"])\n",
    "        self.mean_weight[\"man\"] = np.mean(df.where(df[\"sex\"] == \"M\")[\"weight\"])\n",
    "        self.cov_matrix[\"woman\"] = np.cov(df[df[\"sex\"] == \"F\"][\"height\"].to_numpy(),\n",
    "                                          df[df[\"sex\"] == \"F\"][\"weight\"].to_numpy())\n",
    "        self.cov_matrix[\"man\"] = np.cov(df[df[\"sex\"] == \"M\"][\"height\"].to_numpy(),\n",
    "                                        df[df[\"sex\"] == \"M\"][\"weight\"].to_numpy())\n",
    "        return self\n",
    "    \n",
    "    \n",
    "    def generate_points(self, n_points):\n",
    "        result = []\n",
    "        for i in range(n_points):\n",
    "            sex = scipy.stats.distributions.bernoulli.rvs(self.p_woman)\n",
    "            if(sex == 0):\n",
    "                hw = np.random.multivariate_normal(mean=[self.mean_height[\"man\"], self.mean_weight[\"man\"]],\n",
    "                                                   cov=self.cov_matrix[\"man\"], size=1)\n",
    "                result.append(np.array([sex, hw[:, 0][0], hw[:, 1][0]]))\n",
    "            else:\n",
    "                hw = np.random.multivariate_normal(mean=[self.mean_height[\"woman\"], self.mean_weight[\"woman\"]],\n",
    "                                                   cov=self.cov_matrix[\"woman\"], size=1)\n",
    "                result.append(np.array([sex, hw[:, 0][0], hw[:, 1][0]]))\n",
    "        return np.array(result, dtype=float)\n",
    "    \n",
    "    \n",
    "    def log_likehood(self, df):\n",
    "        x_man = df[df[\"sex\"] == \"M\"][[\"height\", \"weight\"]].values\n",
    "        x_woman = df[df[\"sex\"] == \"F\"][[\"height\", \"weight\"]].values\n",
    "        \n",
    "    \n",
    "        result_man = self.p_man * scipy.stats.multivariate_normal.pdf(x=x_man, mean=[self.mean_height[\"man\"], \n",
    "                                                                        self.mean_weight[\"man\"]],\n",
    "                                                                        cov=self.cov_matrix[\"man\"])\n",
    "        result_woman = self.p_woman * scipy.stats.multivariate_normal.pdf(x=x_woman, mean=[self.mean_height[\"woman\"],\n",
    "                                                                            self.mean_weight[\"woman\"]],\n",
    "                                                                            cov=self.cov_matrix[\"woman\"])\n",
    "        return np.log(np.concatenate((result_man, result_woman), axis=None))\n",
    "    \n",
    "    \n",
    "    def mean_log_likehood(self, df):\n",
    "        return self.log_likehood(df).sum() / len(df.index)\n",
    "\n",
    "generator = PointGenerator()\n",
    "generator.fit(train_davis_df)\n",
    "generated_data = generator.generate_points(100)\n",
    "generated_data"
   ]
  },
  {
   "cell_type": "code",
   "execution_count": 94,
   "metadata": {},
   "outputs": [
    {
     "data": {
      "text/html": [
       "<div>\n",
       "<style scoped>\n",
       "    .dataframe tbody tr th:only-of-type {\n",
       "        vertical-align: middle;\n",
       "    }\n",
       "\n",
       "    .dataframe tbody tr th {\n",
       "        vertical-align: top;\n",
       "    }\n",
       "\n",
       "    .dataframe thead th {\n",
       "        text-align: right;\n",
       "    }\n",
       "</style>\n",
       "<table border=\"1\" class=\"dataframe\">\n",
       "  <thead>\n",
       "    <tr style=\"text-align: right;\">\n",
       "      <th></th>\n",
       "      <th>sex</th>\n",
       "      <th>height</th>\n",
       "      <th>weight</th>\n",
       "    </tr>\n",
       "  </thead>\n",
       "  <tbody>\n",
       "    <tr>\n",
       "      <th>0</th>\n",
       "      <td>F</td>\n",
       "      <td>157.414504</td>\n",
       "      <td>49.955340</td>\n",
       "    </tr>\n",
       "    <tr>\n",
       "      <th>1</th>\n",
       "      <td>F</td>\n",
       "      <td>165.147925</td>\n",
       "      <td>49.223525</td>\n",
       "    </tr>\n",
       "    <tr>\n",
       "      <th>2</th>\n",
       "      <td>M</td>\n",
       "      <td>163.025152</td>\n",
       "      <td>52.667596</td>\n",
       "    </tr>\n",
       "    <tr>\n",
       "      <th>3</th>\n",
       "      <td>F</td>\n",
       "      <td>168.611630</td>\n",
       "      <td>62.719275</td>\n",
       "    </tr>\n",
       "    <tr>\n",
       "      <th>4</th>\n",
       "      <td>M</td>\n",
       "      <td>185.821795</td>\n",
       "      <td>88.303216</td>\n",
       "    </tr>\n",
       "    <tr>\n",
       "      <th>...</th>\n",
       "      <td>...</td>\n",
       "      <td>...</td>\n",
       "      <td>...</td>\n",
       "    </tr>\n",
       "    <tr>\n",
       "      <th>95</th>\n",
       "      <td>M</td>\n",
       "      <td>175.595081</td>\n",
       "      <td>70.896435</td>\n",
       "    </tr>\n",
       "    <tr>\n",
       "      <th>96</th>\n",
       "      <td>F</td>\n",
       "      <td>146.466714</td>\n",
       "      <td>52.620580</td>\n",
       "    </tr>\n",
       "    <tr>\n",
       "      <th>97</th>\n",
       "      <td>F</td>\n",
       "      <td>161.925667</td>\n",
       "      <td>40.696022</td>\n",
       "    </tr>\n",
       "    <tr>\n",
       "      <th>98</th>\n",
       "      <td>F</td>\n",
       "      <td>162.952644</td>\n",
       "      <td>48.045271</td>\n",
       "    </tr>\n",
       "    <tr>\n",
       "      <th>99</th>\n",
       "      <td>F</td>\n",
       "      <td>168.059111</td>\n",
       "      <td>55.393108</td>\n",
       "    </tr>\n",
       "  </tbody>\n",
       "</table>\n",
       "<p>100 rows × 3 columns</p>\n",
       "</div>"
      ],
      "text/plain": [
       "   sex      height     weight\n",
       "0    F  157.414504  49.955340\n",
       "1    F  165.147925  49.223525\n",
       "2    M  163.025152  52.667596\n",
       "3    F  168.611630  62.719275\n",
       "4    M  185.821795  88.303216\n",
       "..  ..         ...        ...\n",
       "95   M  175.595081  70.896435\n",
       "96   F  146.466714  52.620580\n",
       "97   F  161.925667  40.696022\n",
       "98   F  162.952644  48.045271\n",
       "99   F  168.059111  55.393108\n",
       "\n",
       "[100 rows x 3 columns]"
      ]
     },
     "execution_count": 94,
     "metadata": {},
     "output_type": "execute_result"
    }
   ],
   "source": [
    "generated_df = pd.DataFrame( {\"sex\" : generated_data.T[0], \"height\" : generated_data.T[1], \"weight\" : generated_data.T[2]})\n",
    "generated_df[\"sex\"][generated_df[\"sex\"] == 1] = \"F\"\n",
    "generated_df[\"sex\"][generated_df[\"sex\"] == 0] = \"M\"\n",
    "generated_df"
   ]
  },
  {
   "cell_type": "code",
   "execution_count": 95,
   "metadata": {},
   "outputs": [
    {
     "data": {
      "text/plain": [
       "(-7.308292975727253, -7.532280577686447)"
      ]
     },
     "execution_count": 95,
     "metadata": {},
     "output_type": "execute_result"
    }
   ],
   "source": [
    "generator.mean_log_likehood(train_davis_df), generator.mean_log_likehood(generated_df)"
   ]
  },
  {
   "cell_type": "code",
   "execution_count": 96,
   "metadata": {},
   "outputs": [
    {
     "data": {
      "text/plain": [
       "<matplotlib.legend.Legend at 0x14ff54d1cc8>"
      ]
     },
     "execution_count": 96,
     "metadata": {},
     "output_type": "execute_result"
    },
    {
     "data": {
      "image/png": "[encoded data removed]",
      "text/plain": [
       "<Figure size 936x504 with 1 Axes>"
      ]
     },
     "metadata": {
      "needs_background": "light"
     },
     "output_type": "display_data"
    }
   ],
   "source": [
    "plt.scatter(x=train_davis_df[\"height\"], y=train_davis_df[\"weight\"], label=\"train\")\n",
    "plt.scatter(x=generated_data.T[1], y=generated_data.T[2], label=\"generated\")\n",
    "plt.xlabel(\"height\")\n",
    "plt.ylabel(\"weight\")\n",
    "plt.legend()"
   ]
  },
  {
   "cell_type": "code",
   "execution_count": 97,
   "metadata": {},
   "outputs": [
    {
     "data": {
      "text/plain": [
       "[150.0, 200.0, 40.0, 120.0, 150.0, 200.0, 40.0, 120.0]"
      ]
     },
     "execution_count": 97,
     "metadata": {},
     "output_type": "execute_result"
    },
    {
     "data": {
      "image/png": "[encoded data removed]",
      "text/plain": [
       "<Figure size 936x504 with 2 Axes>"
      ]
     },
     "metadata": {
      "needs_background": "light"
     },
     "output_type": "display_data"
    }
   ],
   "source": [
    "fig, ax = plt.subplots(ncols=2)\n",
    "ax[0].scatter(x=train_davis_df.where(train_davis_df[\"sex\"] == \"F\")[\"height\"],\n",
    "              y=train_davis_df.where(train_davis_df[\"sex\"] == \"F\")[\"weight\"], label=\"F\")\n",
    "ax[0].scatter(x=train_davis_df.where(train_davis_df[\"sex\"] == \"M\")[\"height\"],\n",
    "              y=train_davis_df.where(train_davis_df[\"sex\"] == \"M\")[\"weight\"], label=\"M\")\n",
    "ax[0].set_xlabel(\"height\")\n",
    "ax[0].set_ylabel(\"weight\")\n",
    "ax[0].set_title(\"Train\")\n",
    "ax[0].legend()\n",
    "x_f = []\n",
    "x_m = []\n",
    "y_f = []\n",
    "y_m = []\n",
    "for i in range(len(generated_data)):\n",
    "    if(generated_data[i][0] == 1):\n",
    "        x_f.append(generated_data[i][1])\n",
    "        y_f.append(generated_data[i][2])\n",
    "    else:\n",
    "        x_m.append(generated_data[i][1])\n",
    "        y_m.append(generated_data[i][2])       \n",
    "ax[1].scatter(x=x_f, y=y_f, label=\"F\")\n",
    "ax[1].scatter(x=x_m, y=y_m, label=\"M\")\n",
    "man_mean_height = np.array(x_m).mean()\n",
    "woman_mean_height = np.array(x_f).mean()\n",
    "man_mean_weight = np.array(y_m).mean()\n",
    "woman_mean_weight = np.array(y_f).mean()\n",
    "ax[0].scatter(x=man_mean_height, y=man_mean_weight, s=400)\n",
    "ax[0].scatter(x=woman_mean_height, y=woman_mean_weight, s=400)\n",
    "ax[1].scatter(x=man_mean_height, y=man_mean_weight, s=400)\n",
    "ax[1].scatter(x=woman_mean_height, y=woman_mean_weight, s=400)\n",
    "ax[1].set_xlabel(\"height\")\n",
    "ax[1].set_ylabel(\"weight\")\n",
    "ax[1].set_title(\"Generated\")\n",
    "ax[1].legend()\n",
    "plt.setp(ax, xlim=(150, 200), ylim=(40, 120))"
   ]
  },
  {
   "cell_type": "markdown",
   "metadata": {},
   "source": [
    "# Задание 2"
   ]
  },
  {
   "cell_type": "markdown",
   "metadata": {},
   "source": [
    "Обучение градиентным спуском линейную модель"
   ]
  },
  {
   "cell_type": "markdown",
   "metadata": {},
   "source": [
    "Улучшаем параметры (w1, b)"
   ]
  },
  {
   "cell_type": "code",
   "execution_count": 98,
   "metadata": {},
   "outputs": [
    {
     "data": {
      "text/plain": [
       "(22.34294, 0.12976)"
      ]
     },
     "execution_count": 98,
     "metadata": {},
     "output_type": "execute_result"
    }
   ],
   "source": [
    "def param_upgrade(df, w1, b, alpha):\n",
    "    x = df[\"height\"].to_numpy()\n",
    "    y = df[\"weight\"].to_numpy()\n",
    "    loss = y - w1 * x - b\n",
    "    dQ_dw1 = -2 * x.dot(loss) / len(df.index)\n",
    "    dQ_db = -2 * loss.mean() \n",
    "    w1 = w1 - alpha * dQ_dw1\n",
    "    b = b - alpha * dQ_db\n",
    "    return w1, b\n",
    "\n",
    "param_upgrade(train_davis_df, 0, 0, 0.001)"
   ]
  },
  {
   "cell_type": "markdown",
   "metadata": {},
   "source": [
    "Среднеквадратическая ошибка"
   ]
  },
  {
   "cell_type": "code",
   "execution_count": 99,
   "metadata": {},
   "outputs": [],
   "source": [
    "def rms_error(df, w1, b):\n",
    "    x = df[\"height\"].to_numpy()\n",
    "    y = df[\"weight\"].to_numpy()\n",
    "    loss = y - w1 * x - b\n",
    "    error = loss ** 2\n",
    "    return error.mean()"
   ]
  },
  {
   "cell_type": "markdown",
   "metadata": {},
   "source": [
    "Градиентный спуск"
   ]
  },
  {
   "cell_type": "code",
   "execution_count": 100,
   "metadata": {},
   "outputs": [
    {
     "name": "stdout",
     "output_type": "stream",
     "text": [
      "Loss in 0 epoch:186994478.22887668\n",
      "Loss in 100 epoch:inf\n",
      "Loss in 200 epoch:nan\n",
      "Loss in 300 epoch:nan\n",
      "Loss in 400 epoch:nan\n"
     ]
    },
    {
     "name": "stderr",
     "output_type": "stream",
     "text": [
      "c:\\users\\firda\\appdata\\local\\programs\\python\\python37\\lib\\site-packages\\numpy\\core\\_methods.py:160: RuntimeWarning: overflow encountered in reduce\n",
      "  ret = umr_sum(arr, axis, dtype, out, keepdims)\n",
      "c:\\users\\firda\\appdata\\local\\programs\\python\\python37\\lib\\site-packages\\ipykernel_launcher.py:5: RuntimeWarning: overflow encountered in square\n",
      "  \"\"\"\n",
      "c:\\users\\firda\\appdata\\local\\programs\\python\\python37\\lib\\site-packages\\ipykernel_launcher.py:7: RuntimeWarning: invalid value encountered in double_scalars\n",
      "  import sys\n"
     ]
    },
    {
     "name": "stdout",
     "output_type": "stream",
     "text": [
      "Loss in 500 epoch:nan\n",
      "Loss in 600 epoch:nan\n",
      "Loss in 700 epoch:nan\n",
      "Loss in 800 epoch:nan\n",
      "Loss in 900 epoch:nan\n",
      "Loss in 1000 epoch:nan\n",
      "Loss in 1100 epoch:nan\n",
      "Loss in 1200 epoch:nan\n",
      "Loss in 1300 epoch:nan\n",
      "Loss in 1400 epoch:nan\n",
      "Loss in 1500 epoch:nan\n",
      "Loss in 1600 epoch:nan\n",
      "Loss in 1700 epoch:nan\n",
      "Loss in 1800 epoch:nan\n",
      "Loss in 1900 epoch:nan\n",
      "Loss in 2000 epoch:nan\n",
      "Loss in 2100 epoch:nan\n",
      "Loss in 2200 epoch:nan\n",
      "Loss in 2300 epoch:nan\n",
      "Loss in 2400 epoch:nan\n",
      "Loss in 2500 epoch:nan\n",
      "Loss in 2600 epoch:nan\n",
      "Loss in 2700 epoch:nan\n",
      "Loss in 2800 epoch:nan\n",
      "Loss in 2900 epoch:nan\n",
      "Loss in 3000 epoch:nan\n",
      "Loss in 3100 epoch:nan\n",
      "Loss in 3200 epoch:nan\n",
      "Loss in 3300 epoch:nan\n",
      "Loss in 3400 epoch:nan\n",
      "Loss in 3500 epoch:nan\n",
      "Loss in 3600 epoch:nan\n",
      "Loss in 3700 epoch:nan\n",
      "Loss in 3800 epoch:nan\n",
      "Loss in 3900 epoch:nan\n",
      "Loss in 4000 epoch:nan\n",
      "Loss in 4100 epoch:nan\n",
      "Loss in 4200 epoch:nan\n",
      "Loss in 4300 epoch:nan\n",
      "Loss in 4400 epoch:nan\n",
      "Loss in 4500 epoch:nan\n",
      "Loss in 4600 epoch:nan\n",
      "Loss in 4700 epoch:nan\n",
      "Loss in 4800 epoch:nan\n",
      "Loss in 4900 epoch:nan\n",
      "Loss in 5000 epoch:nan\n",
      "Loss in 5100 epoch:nan\n",
      "Loss in 5200 epoch:nan\n",
      "Loss in 5300 epoch:nan\n",
      "Loss in 5400 epoch:nan\n",
      "Loss in 5500 epoch:nan\n",
      "Loss in 5600 epoch:nan\n",
      "Loss in 5700 epoch:nan\n",
      "Loss in 5800 epoch:nan\n",
      "Loss in 5900 epoch:nan\n",
      "Loss in 6000 epoch:nan\n",
      "Loss in 6100 epoch:nan\n",
      "Loss in 6200 epoch:nan\n",
      "Loss in 6300 epoch:nan\n",
      "Loss in 6400 epoch:nan\n",
      "Loss in 6500 epoch:nan\n",
      "Loss in 6600 epoch:nan\n",
      "Loss in 6700 epoch:nan\n",
      "Loss in 6800 epoch:nan\n",
      "Loss in 6900 epoch:nan\n",
      "Loss in 7000 epoch:nan\n",
      "Loss in 7100 epoch:nan\n",
      "Loss in 7200 epoch:nan\n",
      "Loss in 7300 epoch:nan\n",
      "Loss in 7400 epoch:nan\n",
      "Loss in 7500 epoch:nan\n",
      "Loss in 7600 epoch:nan\n",
      "Loss in 7700 epoch:nan\n",
      "Loss in 7800 epoch:nan\n",
      "Loss in 7900 epoch:nan\n",
      "Loss in 8000 epoch:nan\n",
      "Loss in 8100 epoch:nan\n",
      "Loss in 8200 epoch:nan\n",
      "Loss in 8300 epoch:nan\n",
      "Loss in 8400 epoch:nan\n",
      "Loss in 8500 epoch:nan\n",
      "Loss in 8600 epoch:nan\n",
      "Loss in 8700 epoch:nan\n",
      "Loss in 8800 epoch:nan\n",
      "Loss in 8900 epoch:nan\n",
      "Loss in 9000 epoch:nan\n",
      "Loss in 9100 epoch:nan\n",
      "Loss in 9200 epoch:nan\n",
      "Loss in 9300 epoch:nan\n",
      "Loss in 9400 epoch:nan\n",
      "Loss in 9500 epoch:nan\n",
      "Loss in 9600 epoch:nan\n",
      "Loss in 9700 epoch:nan\n",
      "Loss in 9800 epoch:nan\n",
      "Loss in 9900 epoch:nan\n"
     ]
    }
   ],
   "source": [
    "def gradient_descent(df, epoches_N, alpha):   \n",
    "    w1 = -1\n",
    "    b = -1\n",
    "    w1_history = []\n",
    "    b_history = []\n",
    "    loss_history = []\n",
    "    for i in range(epoches_N):\n",
    "        w1, b = param_upgrade(df, w1, b, alpha)\n",
    "        w1_history.append(w1)\n",
    "        b_history.append(b)\n",
    "        if i % 100 == 0:\n",
    "            print(f\"Loss in {i} epoch:\" + str(rms_error(df, w1, b)))\n",
    "        loss_history.append(rms_error(df, w1, b))\n",
    "    return w1, b, w1_history, b_history, loss_history\n",
    "\n",
    "w1, b, w1_history, b_history, loss_history = gradient_descent(train_davis_df, 10000, 1e-3)"
   ]
  },
  {
   "cell_type": "code",
   "execution_count": 101,
   "metadata": {},
   "outputs": [
    {
     "data": {
      "text/plain": [
       "(nan, nan)"
      ]
     },
     "execution_count": 101,
     "metadata": {},
     "output_type": "execute_result"
    }
   ],
   "source": [
    "w1, b"
   ]
  },
  {
   "cell_type": "code",
   "execution_count": 102,
   "metadata": {},
   "outputs": [
    {
     "name": "stdout",
     "output_type": "stream",
     "text": [
      "w1 in 0 epoch:80.27730000000001\n",
      "w1 in 200 epoch:nan\n",
      "w1 in 400 epoch:nan\n",
      "w1 in 600 epoch:nan\n",
      "w1 in 800 epoch:nan\n",
      "w1 in 1000 epoch:nan\n",
      "w1 in 1200 epoch:nan\n",
      "w1 in 1400 epoch:nan\n",
      "w1 in 1600 epoch:nan\n",
      "w1 in 1800 epoch:nan\n",
      "w1 in 2000 epoch:nan\n",
      "w1 in 2200 epoch:nan\n",
      "w1 in 2400 epoch:nan\n",
      "w1 in 2600 epoch:nan\n",
      "w1 in 2800 epoch:nan\n",
      "w1 in 3000 epoch:nan\n",
      "w1 in 3200 epoch:nan\n",
      "w1 in 3400 epoch:nan\n",
      "w1 in 3600 epoch:nan\n",
      "w1 in 3800 epoch:nan\n",
      "w1 in 4000 epoch:nan\n",
      "w1 in 4200 epoch:nan\n",
      "w1 in 4400 epoch:nan\n",
      "w1 in 4600 epoch:nan\n",
      "w1 in 4800 epoch:nan\n",
      "w1 in 5000 epoch:nan\n",
      "w1 in 5200 epoch:nan\n",
      "w1 in 5400 epoch:nan\n",
      "w1 in 5600 epoch:nan\n",
      "w1 in 5800 epoch:nan\n",
      "w1 in 6000 epoch:nan\n",
      "w1 in 6200 epoch:nan\n",
      "w1 in 6400 epoch:nan\n",
      "w1 in 6600 epoch:nan\n",
      "w1 in 6800 epoch:nan\n",
      "w1 in 7000 epoch:nan\n",
      "w1 in 7200 epoch:nan\n",
      "w1 in 7400 epoch:nan\n",
      "w1 in 7600 epoch:nan\n",
      "w1 in 7800 epoch:nan\n",
      "w1 in 8000 epoch:nan\n",
      "w1 in 8200 epoch:nan\n",
      "w1 in 8400 epoch:nan\n",
      "w1 in 8600 epoch:nan\n",
      "w1 in 8800 epoch:nan\n",
      "w1 in 9000 epoch:nan\n",
      "w1 in 9200 epoch:nan\n",
      "w1 in 9400 epoch:nan\n",
      "w1 in 9600 epoch:nan\n",
      "w1 in 9800 epoch:nan\n"
     ]
    }
   ],
   "source": [
    "for i in range(len(w1_history)):\n",
    "    if i % 200 == 0:\n",
    "        print(f\"w1 in {i} epoch:\" + str(w1_history[i]))"
   ]
  },
  {
   "cell_type": "code",
   "execution_count": 103,
   "metadata": {},
   "outputs": [
    {
     "name": "stdout",
     "output_type": "stream",
     "text": [
      "w1 in 0 epoch:-0.5264\n",
      "w1 in 200 epoch:nan\n",
      "w1 in 400 epoch:nan\n",
      "w1 in 600 epoch:nan\n",
      "w1 in 800 epoch:nan\n",
      "w1 in 1000 epoch:nan\n",
      "w1 in 1200 epoch:nan\n",
      "w1 in 1400 epoch:nan\n",
      "w1 in 1600 epoch:nan\n",
      "w1 in 1800 epoch:nan\n",
      "w1 in 2000 epoch:nan\n",
      "w1 in 2200 epoch:nan\n",
      "w1 in 2400 epoch:nan\n",
      "w1 in 2600 epoch:nan\n",
      "w1 in 2800 epoch:nan\n",
      "w1 in 3000 epoch:nan\n",
      "w1 in 3200 epoch:nan\n",
      "w1 in 3400 epoch:nan\n",
      "w1 in 3600 epoch:nan\n",
      "w1 in 3800 epoch:nan\n",
      "w1 in 4000 epoch:nan\n",
      "w1 in 4200 epoch:nan\n",
      "w1 in 4400 epoch:nan\n",
      "w1 in 4600 epoch:nan\n",
      "w1 in 4800 epoch:nan\n",
      "w1 in 5000 epoch:nan\n",
      "w1 in 5200 epoch:nan\n",
      "w1 in 5400 epoch:nan\n",
      "w1 in 5600 epoch:nan\n",
      "w1 in 5800 epoch:nan\n",
      "w1 in 6000 epoch:nan\n",
      "w1 in 6200 epoch:nan\n",
      "w1 in 6400 epoch:nan\n",
      "w1 in 6600 epoch:nan\n",
      "w1 in 6800 epoch:nan\n",
      "w1 in 7000 epoch:nan\n",
      "w1 in 7200 epoch:nan\n",
      "w1 in 7400 epoch:nan\n",
      "w1 in 7600 epoch:nan\n",
      "w1 in 7800 epoch:nan\n",
      "w1 in 8000 epoch:nan\n",
      "w1 in 8200 epoch:nan\n",
      "w1 in 8400 epoch:nan\n",
      "w1 in 8600 epoch:nan\n",
      "w1 in 8800 epoch:nan\n",
      "w1 in 9000 epoch:nan\n",
      "w1 in 9200 epoch:nan\n",
      "w1 in 9400 epoch:nan\n",
      "w1 in 9600 epoch:nan\n",
      "w1 in 9800 epoch:nan\n"
     ]
    }
   ],
   "source": [
    "for i in range(len(b_history)):\n",
    "    if i % 200 == 0:\n",
    "        print(f\"w1 in {i} epoch:\" + str(b_history[i]))"
   ]
  },
  {
   "cell_type": "markdown",
   "metadata": {},
   "source": [
    "Нормализация данных"
   ]
  },
  {
   "cell_type": "code",
   "execution_count": 104,
   "metadata": {},
   "outputs": [
    {
     "data": {
      "text/html": [
       "<div>\n",
       "<style scoped>\n",
       "    .dataframe tbody tr th:only-of-type {\n",
       "        vertical-align: middle;\n",
       "    }\n",
       "\n",
       "    .dataframe tbody tr th {\n",
       "        vertical-align: top;\n",
       "    }\n",
       "\n",
       "    .dataframe thead th {\n",
       "        text-align: right;\n",
       "    }\n",
       "</style>\n",
       "<table border=\"1\" class=\"dataframe\">\n",
       "  <thead>\n",
       "    <tr style=\"text-align: right;\">\n",
       "      <th></th>\n",
       "      <th>Unnamed: 0</th>\n",
       "      <th>sex</th>\n",
       "      <th>weight</th>\n",
       "      <th>height</th>\n",
       "      <th>repwt</th>\n",
       "      <th>repht</th>\n",
       "    </tr>\n",
       "  </thead>\n",
       "  <tbody>\n",
       "    <tr>\n",
       "      <th>119</th>\n",
       "      <td>120.0</td>\n",
       "      <td>M</td>\n",
       "      <td>0.009971</td>\n",
       "      <td>0.775042</td>\n",
       "      <td>66.000000</td>\n",
       "      <td>178.000000</td>\n",
       "    </tr>\n",
       "    <tr>\n",
       "      <th>43</th>\n",
       "      <td>44.0</td>\n",
       "      <td>M</td>\n",
       "      <td>1.090181</td>\n",
       "      <td>1.322388</td>\n",
       "      <td>80.000000</td>\n",
       "      <td>180.000000</td>\n",
       "    </tr>\n",
       "    <tr>\n",
       "      <th>113</th>\n",
       "      <td>114.0</td>\n",
       "      <td>M</td>\n",
       "      <td>0.176157</td>\n",
       "      <td>0.884511</td>\n",
       "      <td>67.000000</td>\n",
       "      <td>179.000000</td>\n",
       "    </tr>\n",
       "    <tr>\n",
       "      <th>140</th>\n",
       "      <td>141.0</td>\n",
       "      <td>M</td>\n",
       "      <td>0.093064</td>\n",
       "      <td>0.446634</td>\n",
       "      <td>68.000000</td>\n",
       "      <td>175.000000</td>\n",
       "    </tr>\n",
       "    <tr>\n",
       "      <th>168</th>\n",
       "      <td>169.0</td>\n",
       "      <td>M</td>\n",
       "      <td>2.585856</td>\n",
       "      <td>2.198141</td>\n",
       "      <td>95.000000</td>\n",
       "      <td>188.000000</td>\n",
       "    </tr>\n",
       "    <tr>\n",
       "      <th>...</th>\n",
       "      <td>...</td>\n",
       "      <td>...</td>\n",
       "      <td>...</td>\n",
       "      <td>...</td>\n",
       "      <td>...</td>\n",
       "      <td>...</td>\n",
       "    </tr>\n",
       "    <tr>\n",
       "      <th>33</th>\n",
       "      <td>34.0</td>\n",
       "      <td>F</td>\n",
       "      <td>-1.070239</td>\n",
       "      <td>-0.757527</td>\n",
       "      <td>52.000000</td>\n",
       "      <td>161.000000</td>\n",
       "    </tr>\n",
       "    <tr>\n",
       "      <th>66</th>\n",
       "      <td>67.0</td>\n",
       "      <td>F</td>\n",
       "      <td>-0.073122</td>\n",
       "      <td>-0.648057</td>\n",
       "      <td>63.000000</td>\n",
       "      <td>163.000000</td>\n",
       "    </tr>\n",
       "    <tr>\n",
       "      <th>166</th>\n",
       "      <td>167.0</td>\n",
       "      <td>F</td>\n",
       "      <td>-0.156215</td>\n",
       "      <td>-0.100712</td>\n",
       "      <td>62.000000</td>\n",
       "      <td>168.000000</td>\n",
       "    </tr>\n",
       "    <tr>\n",
       "      <th>125</th>\n",
       "      <td>126.0</td>\n",
       "      <td>F</td>\n",
       "      <td>-1.070239</td>\n",
       "      <td>-0.210181</td>\n",
       "      <td>56.000000</td>\n",
       "      <td>168.527473</td>\n",
       "    </tr>\n",
       "    <tr>\n",
       "      <th>47</th>\n",
       "      <td>48.0</td>\n",
       "      <td>F</td>\n",
       "      <td>-1.319518</td>\n",
       "      <td>-1.085934</td>\n",
       "      <td>65.675824</td>\n",
       "      <td>168.527473</td>\n",
       "    </tr>\n",
       "  </tbody>\n",
       "</table>\n",
       "<p>100 rows × 6 columns</p>\n",
       "</div>"
      ],
      "text/plain": [
       "     Unnamed: 0 sex    weight    height      repwt       repht\n",
       "119       120.0   M  0.009971  0.775042  66.000000  178.000000\n",
       "43         44.0   M  1.090181  1.322388  80.000000  180.000000\n",
       "113       114.0   M  0.176157  0.884511  67.000000  179.000000\n",
       "140       141.0   M  0.093064  0.446634  68.000000  175.000000\n",
       "168       169.0   M  2.585856  2.198141  95.000000  188.000000\n",
       "..          ...  ..       ...       ...        ...         ...\n",
       "33         34.0   F -1.070239 -0.757527  52.000000  161.000000\n",
       "66         67.0   F -0.073122 -0.648057  63.000000  163.000000\n",
       "166       167.0   F -0.156215 -0.100712  62.000000  168.000000\n",
       "125       126.0   F -1.070239 -0.210181  56.000000  168.527473\n",
       "47         48.0   F -1.319518 -1.085934  65.675824  168.527473\n",
       "\n",
       "[100 rows x 6 columns]"
      ]
     },
     "execution_count": 104,
     "metadata": {},
     "output_type": "execute_result"
    }
   ],
   "source": [
    "def normalize(df):\n",
    "    df = df.copy()\n",
    "    df[\"height\"] = (df[\"height\"] - df[\"height\"].mean()) / df[\"height\"].std()\n",
    "    df[\"weight\"] = (df[\"weight\"] - df[\"weight\"].mean()) / df[\"weight\"].std() \n",
    "    return df \n",
    "normalize(train_davis_df)"
   ]
  },
  {
   "cell_type": "code",
   "execution_count": 105,
   "metadata": {},
   "outputs": [
    {
     "name": "stdout",
     "output_type": "stream",
     "text": [
      "Loss in 0 epoch:4.458987182798443\n",
      "Loss in 100 epoch:3.1363392647470487\n",
      "Loss in 200 epoch:2.2474220503267652\n",
      "Loss in 300 epoch:1.650002155936148\n",
      "Loss in 400 epoch:1.2484894045888766\n",
      "Loss in 500 epoch:0.97864072420141\n",
      "Loss in 600 epoch:0.797280289885145\n",
      "Loss in 700 epoch:0.675390848910596\n",
      "Loss in 800 epoch:0.5934706665860247\n",
      "Loss in 900 epoch:0.538413099142236\n",
      "Loss in 1000 epoch:0.5014094622800161\n",
      "Loss in 1100 epoch:0.4765396171882192\n",
      "Loss in 1200 epoch:0.4598247462986588\n",
      "Loss in 1300 epoch:0.4485907507834109\n",
      "Loss in 1400 epoch:0.4410404068160313\n",
      "Loss in 1500 epoch:0.43596582222668767\n",
      "Loss in 1600 epoch:0.4325551850536081\n",
      "Loss in 1700 epoch:0.43026288318097733\n",
      "Loss in 1800 epoch:0.42872221413337847\n",
      "Loss in 1900 epoch:0.42768671875783704\n",
      "Loss in 2000 epoch:0.42699075243518697\n",
      "Loss in 2100 epoch:0.4265229854798569\n",
      "Loss in 2200 epoch:0.4262085930343865\n",
      "Loss in 2300 epoch:0.42599728504764484\n",
      "Loss in 2400 epoch:0.42585526130042994\n",
      "Loss in 2500 epoch:0.4257598044142221\n",
      "Loss in 2600 epoch:0.4256956458259565\n",
      "Loss in 2700 epoch:0.42565252336166365\n",
      "Loss in 2800 epoch:0.42562353967827177\n",
      "Loss in 2900 epoch:0.42560405896681575\n",
      "Loss in 3000 epoch:0.42559096542079966\n",
      "Loss in 3100 epoch:0.4255821648473958\n",
      "Loss in 3200 epoch:0.4255762496957444\n",
      "Loss in 3300 epoch:0.42557227391873875\n",
      "Loss in 3400 epoch:0.4255696016546872\n",
      "Loss in 3500 epoch:0.4255678055239869\n",
      "Loss in 3600 epoch:0.42556659827259385\n",
      "Loss in 3700 epoch:0.42556578682831286\n",
      "Loss in 3800 epoch:0.42556524142107205\n",
      "Loss in 3900 epoch:0.42556487482796146\n",
      "Loss in 4000 epoch:0.4255646284233107\n",
      "Loss in 4100 epoch:0.42556446280257837\n",
      "Loss in 4200 epoch:0.42556435148039995\n",
      "Loss in 4300 epoch:0.42556427665485524\n",
      "Loss in 4400 epoch:0.4255642263604974\n",
      "Loss in 4500 epoch:0.425564192554805\n",
      "Loss in 4600 epoch:0.42556416983201834\n",
      "Loss in 4700 epoch:0.42556415455866053\n",
      "Loss in 4800 epoch:0.4255641442924859\n",
      "Loss in 4900 epoch:0.4255641373919323\n",
      "Loss in 5000 epoch:0.42556413275361554\n",
      "Loss in 5100 epoch:0.42556412963588874\n",
      "Loss in 5200 epoch:0.4255641275402479\n",
      "Loss in 5300 epoch:0.4255641261316181\n",
      "Loss in 5400 epoch:0.4255641251847752\n",
      "Loss in 5500 epoch:0.4255641245483311\n",
      "Loss in 5600 epoch:0.42556412412052813\n",
      "Loss in 5700 epoch:0.42556412383296816\n",
      "Loss in 5800 epoch:0.4255641236396762\n",
      "Loss in 5900 epoch:0.4255641235097486\n",
      "Loss in 6000 epoch:0.42556412342241356\n",
      "Loss in 6100 epoch:0.42556412336370797\n",
      "Loss in 6200 epoch:0.4255641233242471\n",
      "Loss in 6300 epoch:0.42556412329772164\n",
      "Loss in 6400 epoch:0.42556412327989157\n",
      "Loss in 6500 epoch:0.42556412326790644\n",
      "Loss in 6600 epoch:0.42556412325985\n",
      "Loss in 6700 epoch:0.42556412325443455\n",
      "Loss in 6800 epoch:0.42556412325079424\n",
      "Loss in 6900 epoch:0.4255641232483473\n",
      "Loss in 7000 epoch:0.42556412324670234\n",
      "Loss in 7100 epoch:0.4255641232455967\n",
      "Loss in 7200 epoch:0.42556412324485343\n",
      "Loss in 7300 epoch:0.42556412324435383\n",
      "Loss in 7400 epoch:0.425564123244018\n",
      "Loss in 7500 epoch:0.4255641232437921\n",
      "Loss in 7600 epoch:0.42556412324364046\n",
      "Loss in 7700 epoch:0.42556412324353843\n",
      "Loss in 7800 epoch:0.4255641232434699\n",
      "Loss in 7900 epoch:0.4255641232434238\n",
      "Loss in 8000 epoch:0.42556412324339277\n",
      "Loss in 8100 epoch:0.42556412324337195\n",
      "Loss in 8200 epoch:0.42556412324335796\n",
      "Loss in 8300 epoch:0.4255641232433485\n",
      "Loss in 8400 epoch:0.4255641232433422\n",
      "Loss in 8500 epoch:0.42556412324333787\n",
      "Loss in 8600 epoch:0.4255641232433351\n",
      "Loss in 8700 epoch:0.42556412324333315\n",
      "Loss in 8800 epoch:0.4255641232433319\n",
      "Loss in 8900 epoch:0.42556412324333104\n",
      "Loss in 9000 epoch:0.4255641232433305\n",
      "Loss in 9100 epoch:0.42556412324333004\n",
      "Loss in 9200 epoch:0.42556412324332976\n",
      "Loss in 9300 epoch:0.42556412324332954\n",
      "Loss in 9400 epoch:0.42556412324332954\n",
      "Loss in 9500 epoch:0.4255641232433294\n",
      "Loss in 9600 epoch:0.4255641232433293\n",
      "Loss in 9700 epoch:0.4255641232433293\n",
      "Loss in 9800 epoch:0.42556412324332926\n",
      "Loss in 9900 epoch:0.42556412324332926\n"
     ]
    }
   ],
   "source": [
    "w1, b, w1_history, b_history, loss_history = gradient_descent(normalize(train_davis_df), 10000, 0.001)"
   ]
  },
  {
   "cell_type": "code",
   "execution_count": 106,
   "metadata": {},
   "outputs": [
    {
     "data": {
      "text/plain": [
       "(0.7550743292593213, -2.020286747055427e-09)"
      ]
     },
     "execution_count": 106,
     "metadata": {},
     "output_type": "execute_result"
    }
   ],
   "source": [
    "w1, b"
   ]
  },
  {
   "cell_type": "code",
   "execution_count": 107,
   "metadata": {},
   "outputs": [
    {
     "name": "stdout",
     "output_type": "stream",
     "text": [
      "w1 in 0 epoch:-0.9965249528194882\n",
      "w1 in 200 epoch:-0.42330104296486415\n",
      "w1 in 400 epoch:-0.037668926152259495\n",
      "w1 in 600 epoch:0.221762208803513\n",
      "w1 in 800 epoch:0.39629257297737247\n",
      "w1 in 1000 epoch:0.5137065758257701\n",
      "w1 in 1200 epoch:0.5926959719124616\n",
      "w1 in 1400 epoch:0.6458354999310775\n",
      "w1 in 1600 epoch:0.6815847216993016\n",
      "w1 in 1800 epoch:0.7056347444354083\n",
      "w1 in 2000 epoch:0.7218142181413602\n",
      "w1 in 2200 epoch:0.732698838595734\n",
      "w1 in 2400 epoch:0.7400213859535144\n",
      "w1 in 2600 epoch:0.7449475751607261\n",
      "w1 in 2800 epoch:0.7482616322667495\n",
      "w1 in 3000 epoch:0.7504911395065252\n",
      "w1 in 3200 epoch:0.7519910238999417\n",
      "w1 in 3400 epoch:0.7530000599566435\n",
      "w1 in 3600 epoch:0.7536788814499491\n",
      "w1 in 3800 epoch:0.7541355535546916\n",
      "w1 in 4000 epoch:0.754442776312524\n",
      "w1 in 4200 epoch:0.7546494581351051\n",
      "w1 in 4400 epoch:0.754788501792179\n",
      "w1 in 4600 epoch:0.7548820423770802\n",
      "w1 in 4800 epoch:0.7549449711090173\n",
      "w1 in 5000 epoch:0.7549873059448257\n",
      "w1 in 5200 epoch:0.755015786390367\n",
      "w1 in 5400 epoch:0.7550349463980238\n",
      "w1 in 5600 epoch:0.7550478361504995\n",
      "w1 in 5800 epoch:0.7550565076354926\n",
      "w1 in 6000 epoch:0.7550623413124493\n",
      "w1 in 6200 epoch:0.7550662658751813\n",
      "w1 in 6400 epoch:0.7550689060955351\n",
      "w1 in 6600 epoch:0.7550706822841172\n",
      "w1 in 6800 epoch:0.7550718772017598\n",
      "w1 in 7000 epoch:0.7550726810737052\n",
      "w1 in 7200 epoch:0.7550732218725708\n",
      "w1 in 7400 epoch:0.7550735856909805\n",
      "w1 in 7600 epoch:0.7550738304471062\n",
      "w1 in 7800 epoch:0.7550739951049676\n",
      "w1 in 8000 epoch:0.7550741058773175\n",
      "w1 in 8200 epoch:0.7550741803985911\n",
      "w1 in 8400 epoch:0.7550742305322228\n",
      "w1 in 8600 epoch:0.7550742642592496\n",
      "w1 in 8800 epoch:0.755074286948856\n",
      "w1 in 9000 epoch:0.7550743022131196\n",
      "w1 in 9200 epoch:0.7550743124820397\n",
      "w1 in 9400 epoch:0.7550743193903791\n",
      "w1 in 9600 epoch:0.7550743240379132\n",
      "w1 in 9800 epoch:0.7550743271645071\n"
     ]
    }
   ],
   "source": [
    "for i in range(len(w1_history)):\n",
    "    if i % 200 == 0:\n",
    "        print(f\"w1 in {i} epoch:\" + str(w1_history[i]))"
   ]
  },
  {
   "cell_type": "code",
   "execution_count": 108,
   "metadata": {},
   "outputs": [
    {
     "name": "stdout",
     "output_type": "stream",
     "text": [
      "b in 0 epoch:-0.998\n",
      "b in 200 epoch:-0.6687115105103469\n",
      "b in 400 epoch:-0.4480712267425148\n",
      "b in 600 epoch:-0.3002308485483078\n",
      "b in 800 epoch:-0.2011701645636695\n",
      "b in 1000 epoch:-0.13479439340179017\n",
      "b in 1200 epoch:-0.09031920082168059\n",
      "b in 1400 epoch:-0.06051852626207775\n",
      "b in 1600 epoch:-0.04055053618294021\n",
      "b in 1800 epoch:-0.027170952207313234\n",
      "b in 2000 epoch:-0.018205940373303697\n",
      "b in 2200 epoch:-0.012198919726746924\n",
      "b in 2400 epoch:-0.00817390584876514\n",
      "b in 2600 epoch:-0.005476938804506322\n",
      "b in 2800 epoch:-0.003669831684302978\n",
      "b in 3000 epoch:-0.002458976642213616\n",
      "b in 3200 epoch:-0.0016476412672590617\n",
      "b in 3400 epoch:-0.0011040046899881823\n",
      "b in 3600 epoch:-0.0007397401241009219\n",
      "b in 3800 epoch:-0.0004956640639006556\n",
      "b in 4000 epoch:-0.0003321205058886975\n",
      "b in 4200 epoch:-0.00022253788092636\n",
      "b in 4400 epoch:-0.00014911186623271864\n",
      "b in 4600 epoch:-9.991264659690795e-05\n",
      "b in 4800 epoch:-6.694663008529178e-05\n",
      "b in 5000 epoch:-4.4857697523176027e-05\n",
      "b in 5200 epoch:-3.0056972614183834e-05\n",
      "b in 5400 epoch:-2.013972300442359e-05\n",
      "b in 5600 epoch:-1.3494653899563631e-05\n",
      "b in 5800 epoch:-9.042114622452394e-06\n",
      "b in 6000 epoch:-6.058683494593358e-06\n",
      "b in 6200 epoch:-4.059630652895341e-06\n",
      "b in 6400 epoch:-2.720162070368911e-06\n",
      "b in 6600 epoch:-1.822648985096353e-06\n",
      "b in 6800 epoch:-1.2212688939583847e-06\n",
      "b in 7000 epoch:-8.183131934212246e-07\n",
      "b in 7200 epoch:-5.483120760114668e-07\n",
      "b in 7400 epoch:-3.6739739158004147e-07\n",
      "b in 7600 epoch:-2.4617521532787534e-07\n",
      "b in 7800 epoch:-1.6495010050957346e-07\n",
      "b in 8000 epoch:-1.1052508124924884e-07\n",
      "b in 8200 epoch:-7.405750926586364e-08\n",
      "b in 8400 epoch:-4.9622353809286707e-08\n",
      "b in 8600 epoch:-3.3249538464115274e-08\n",
      "b in 8800 epoch:-2.2278907120226835e-08\n",
      "b in 9000 epoch:-1.492801788497096e-08\n",
      "b in 9200 epoch:-1.000254269076358e-08\n",
      "b in 9400 epoch:-6.702220088108468e-09\n",
      "b in 9600 epoch:-4.490833602088876e-09\n",
      "b in 9800 epoch:-3.00909051889739e-09\n"
     ]
    }
   ],
   "source": [
    "for i in range(len(b_history)):\n",
    "    if i % 200 == 0:\n",
    "        print(f\"b in {i} epoch:\" + str(b_history[i]))"
   ]
  },
  {
   "cell_type": "code",
   "execution_count": 109,
   "metadata": {},
   "outputs": [
    {
     "name": "stdout",
     "output_type": "stream",
     "text": [
      "loss in 0 epoch:4.458987182798443\n",
      "loss in 200 epoch:2.2474220503267652\n",
      "loss in 400 epoch:1.2484894045888766\n",
      "loss in 600 epoch:0.797280289885145\n",
      "loss in 800 epoch:0.5934706665860247\n",
      "loss in 1000 epoch:0.5014094622800161\n",
      "loss in 1200 epoch:0.4598247462986588\n",
      "loss in 1400 epoch:0.4410404068160313\n",
      "loss in 1600 epoch:0.4325551850536081\n",
      "loss in 1800 epoch:0.42872221413337847\n",
      "loss in 2000 epoch:0.42699075243518697\n",
      "loss in 2200 epoch:0.4262085930343865\n",
      "loss in 2400 epoch:0.42585526130042994\n",
      "loss in 2600 epoch:0.4256956458259565\n",
      "loss in 2800 epoch:0.42562353967827177\n",
      "loss in 3000 epoch:0.42559096542079966\n",
      "loss in 3200 epoch:0.4255762496957444\n",
      "loss in 3400 epoch:0.4255696016546872\n",
      "loss in 3600 epoch:0.42556659827259385\n",
      "loss in 3800 epoch:0.42556524142107205\n",
      "loss in 4000 epoch:0.4255646284233107\n",
      "loss in 4200 epoch:0.42556435148039995\n",
      "loss in 4400 epoch:0.4255642263604974\n",
      "loss in 4600 epoch:0.42556416983201834\n",
      "loss in 4800 epoch:0.4255641442924859\n",
      "loss in 5000 epoch:0.42556413275361554\n",
      "loss in 5200 epoch:0.4255641275402479\n",
      "loss in 5400 epoch:0.4255641251847752\n",
      "loss in 5600 epoch:0.42556412412052813\n",
      "loss in 5800 epoch:0.4255641236396762\n",
      "loss in 6000 epoch:0.42556412342241356\n",
      "loss in 6200 epoch:0.4255641233242471\n",
      "loss in 6400 epoch:0.42556412327989157\n",
      "loss in 6600 epoch:0.42556412325985\n",
      "loss in 6800 epoch:0.42556412325079424\n",
      "loss in 7000 epoch:0.42556412324670234\n",
      "loss in 7200 epoch:0.42556412324485343\n",
      "loss in 7400 epoch:0.425564123244018\n",
      "loss in 7600 epoch:0.42556412324364046\n",
      "loss in 7800 epoch:0.4255641232434699\n",
      "loss in 8000 epoch:0.42556412324339277\n",
      "loss in 8200 epoch:0.42556412324335796\n",
      "loss in 8400 epoch:0.4255641232433422\n",
      "loss in 8600 epoch:0.4255641232433351\n",
      "loss in 8800 epoch:0.4255641232433319\n",
      "loss in 9000 epoch:0.4255641232433305\n",
      "loss in 9200 epoch:0.42556412324332976\n",
      "loss in 9400 epoch:0.42556412324332954\n",
      "loss in 9600 epoch:0.4255641232433293\n",
      "loss in 9800 epoch:0.42556412324332926\n"
     ]
    }
   ],
   "source": [
    "for i in range(len(loss_history)):\n",
    "    if i % 200 == 0:\n",
    "        print(f\"loss in {i} epoch:\" + str(loss_history[i]))"
   ]
  },
  {
   "cell_type": "code",
   "execution_count": 110,
   "metadata": {},
   "outputs": [],
   "source": [
    "def predict(x, w1, b):\n",
    "    return w1 * x + b"
   ]
  },
  {
   "cell_type": "code",
   "execution_count": 111,
   "metadata": {},
   "outputs": [
    {
     "data": {
      "text/plain": [
       "<matplotlib.legend.Legend at 0x14ff58ebb88>"
      ]
     },
     "execution_count": 111,
     "metadata": {},
     "output_type": "execute_result"
    },
    {
     "data": {
      "image/png": "[encoded data removed]",
      "text/plain": [
       "<Figure size 936x504 with 1 Axes>"
      ]
     },
     "metadata": {
      "needs_background": "light"
     },
     "output_type": "display_data"
    }
   ],
   "source": [
    "norm_test_df = normalize(test_davis_df)\n",
    "linear_regression = LinearRegression()\n",
    "x = norm_test_df[\"height\"]\n",
    "y = norm_test_df[\"weight\"]\n",
    "linear_regression.fit(x.values.reshape(-1, 1), y)\n",
    "plt.plot(x, linear_regression.predict(x.values.reshape(-1, 1)), label=\"LinearRegression\")\n",
    "plt.scatter(x, y)\n",
    "plt.plot(x, predict(x, w1, b), label=\"GradientDescent\")\n",
    "plt.xlabel(\"height\")\n",
    "plt.ylabel(\"weight\")\n",
    "plt.legend()"
   ]
  },
  {
   "cell_type": "code",
   "execution_count": 112,
   "metadata": {},
   "outputs": [
    {
     "data": {
      "text/plain": [
       "(0.7550743292593213, -2.020286747055427e-09)"
      ]
     },
     "execution_count": 112,
     "metadata": {},
     "output_type": "execute_result"
    }
   ],
   "source": [
    "w1, b"
   ]
  },
  {
   "cell_type": "code",
   "execution_count": 113,
   "metadata": {},
   "outputs": [
    {
     "data": {
      "text/plain": [
       "(array([0.79778972]), 1.1082817795918432e-15)"
      ]
     },
     "execution_count": 113,
     "metadata": {},
     "output_type": "execute_result"
    }
   ],
   "source": [
    "linear_regression.coef_, linear_regression.intercept_"
   ]
  },
  {
   "cell_type": "markdown",
   "metadata": {},
   "source": [
    "Визуализация"
   ]
  },
  {
   "cell_type": "code",
   "execution_count": 114,
   "metadata": {},
   "outputs": [
    {
     "data": {
      "text/plain": [
       "Text(0, 0.5, 'w1')"
      ]
     },
     "execution_count": 114,
     "metadata": {},
     "output_type": "execute_result"
    },
    {
     "data": {
      "image/png": "[encoded data removed]",
      "text/plain": [
       "<Figure size 936x504 with 1 Axes>"
      ]
     },
     "metadata": {
      "needs_background": "light"
     },
     "output_type": "display_data"
    }
   ],
   "source": [
    "x = np.linspace(-1.2, 1, 100)\n",
    "y = np.linspace(-1.2, 1, 100)\n",
    "X, Y = np.meshgrid(x, y)\n",
    "Z = np.zeros(shape=(x.size, y.size))\n",
    "for i in range(len(x)):\n",
    "    for j in range(len(y)):\n",
    "        loss = rms_error(norm_test_df, x[i], y[j])\n",
    "        Z[i, j] = loss\n",
    "plt.contourf(X, Y, Z)\n",
    "plt.plot(b_history, w1_history, color=\"WHITE\")\n",
    "for i in range(len(b_history)):\n",
    "    if i % 100 == 0:\n",
    "        plt.arrow(b_history[i], w1_history[i], b_history[i + 1] - b_history[i], w1_history[i + 1] - w1_history[i],\n",
    "                  width=0.007, color=\"WHITE\")\n",
    "plt.xlabel(\"b\")\n",
    "plt.ylabel(\"w1\")"
   ]
  },
  {
   "cell_type": "markdown",
   "metadata": {},
   "source": [
    "Обучение линейной модели градиентным спуском"
   ]
  },
  {
   "cell_type": "code",
   "execution_count": 115,
   "metadata": {},
   "outputs": [
    {
     "data": {
      "text/html": [
       "<div>\n",
       "<style scoped>\n",
       "    .dataframe tbody tr th:only-of-type {\n",
       "        vertical-align: middle;\n",
       "    }\n",
       "\n",
       "    .dataframe tbody tr th {\n",
       "        vertical-align: top;\n",
       "    }\n",
       "\n",
       "    .dataframe thead th {\n",
       "        text-align: right;\n",
       "    }\n",
       "</style>\n",
       "<table border=\"1\" class=\"dataframe\">\n",
       "  <thead>\n",
       "    <tr style=\"text-align: right;\">\n",
       "      <th></th>\n",
       "      <th>Unnamed: 0</th>\n",
       "      <th>sex</th>\n",
       "      <th>weight</th>\n",
       "      <th>height</th>\n",
       "      <th>repwt</th>\n",
       "      <th>repht</th>\n",
       "    </tr>\n",
       "  </thead>\n",
       "  <tbody>\n",
       "    <tr>\n",
       "      <th>119</th>\n",
       "      <td>120.0</td>\n",
       "      <td>1</td>\n",
       "      <td>65.0</td>\n",
       "      <td>178.0</td>\n",
       "      <td>66.000000</td>\n",
       "      <td>178.000000</td>\n",
       "    </tr>\n",
       "    <tr>\n",
       "      <th>43</th>\n",
       "      <td>44.0</td>\n",
       "      <td>1</td>\n",
       "      <td>78.0</td>\n",
       "      <td>183.0</td>\n",
       "      <td>80.000000</td>\n",
       "      <td>180.000000</td>\n",
       "    </tr>\n",
       "    <tr>\n",
       "      <th>113</th>\n",
       "      <td>114.0</td>\n",
       "      <td>1</td>\n",
       "      <td>67.0</td>\n",
       "      <td>179.0</td>\n",
       "      <td>67.000000</td>\n",
       "      <td>179.000000</td>\n",
       "    </tr>\n",
       "    <tr>\n",
       "      <th>140</th>\n",
       "      <td>141.0</td>\n",
       "      <td>1</td>\n",
       "      <td>66.0</td>\n",
       "      <td>175.0</td>\n",
       "      <td>68.000000</td>\n",
       "      <td>175.000000</td>\n",
       "    </tr>\n",
       "    <tr>\n",
       "      <th>168</th>\n",
       "      <td>169.0</td>\n",
       "      <td>1</td>\n",
       "      <td>96.0</td>\n",
       "      <td>191.0</td>\n",
       "      <td>95.000000</td>\n",
       "      <td>188.000000</td>\n",
       "    </tr>\n",
       "    <tr>\n",
       "      <th>...</th>\n",
       "      <td>...</td>\n",
       "      <td>...</td>\n",
       "      <td>...</td>\n",
       "      <td>...</td>\n",
       "      <td>...</td>\n",
       "      <td>...</td>\n",
       "    </tr>\n",
       "    <tr>\n",
       "      <th>33</th>\n",
       "      <td>34.0</td>\n",
       "      <td>0</td>\n",
       "      <td>52.0</td>\n",
       "      <td>164.0</td>\n",
       "      <td>52.000000</td>\n",
       "      <td>161.000000</td>\n",
       "    </tr>\n",
       "    <tr>\n",
       "      <th>66</th>\n",
       "      <td>67.0</td>\n",
       "      <td>0</td>\n",
       "      <td>64.0</td>\n",
       "      <td>165.0</td>\n",
       "      <td>63.000000</td>\n",
       "      <td>163.000000</td>\n",
       "    </tr>\n",
       "    <tr>\n",
       "      <th>166</th>\n",
       "      <td>167.0</td>\n",
       "      <td>0</td>\n",
       "      <td>63.0</td>\n",
       "      <td>170.0</td>\n",
       "      <td>62.000000</td>\n",
       "      <td>168.000000</td>\n",
       "    </tr>\n",
       "    <tr>\n",
       "      <th>125</th>\n",
       "      <td>126.0</td>\n",
       "      <td>0</td>\n",
       "      <td>52.0</td>\n",
       "      <td>169.0</td>\n",
       "      <td>56.000000</td>\n",
       "      <td>168.527473</td>\n",
       "    </tr>\n",
       "    <tr>\n",
       "      <th>47</th>\n",
       "      <td>48.0</td>\n",
       "      <td>0</td>\n",
       "      <td>49.0</td>\n",
       "      <td>161.0</td>\n",
       "      <td>65.675824</td>\n",
       "      <td>168.527473</td>\n",
       "    </tr>\n",
       "  </tbody>\n",
       "</table>\n",
       "<p>100 rows × 6 columns</p>\n",
       "</div>"
      ],
      "text/plain": [
       "     Unnamed: 0  sex  weight  height      repwt       repht\n",
       "119       120.0    1    65.0   178.0  66.000000  178.000000\n",
       "43         44.0    1    78.0   183.0  80.000000  180.000000\n",
       "113       114.0    1    67.0   179.0  67.000000  179.000000\n",
       "140       141.0    1    66.0   175.0  68.000000  175.000000\n",
       "168       169.0    1    96.0   191.0  95.000000  188.000000\n",
       "..          ...  ...     ...     ...        ...         ...\n",
       "33         34.0    0    52.0   164.0  52.000000  161.000000\n",
       "66         67.0    0    64.0   165.0  63.000000  163.000000\n",
       "166       167.0    0    63.0   170.0  62.000000  168.000000\n",
       "125       126.0    0    52.0   169.0  56.000000  168.527473\n",
       "47         48.0    0    49.0   161.0  65.675824  168.527473\n",
       "\n",
       "[100 rows x 6 columns]"
      ]
     },
     "execution_count": 115,
     "metadata": {},
     "output_type": "execute_result"
    }
   ],
   "source": [
    "def converter(df):\n",
    "    converted_df = df.copy()\n",
    "    converted_df[\"sex\"] = (converted_df[\"sex\"] == \"M\").values.astype(int)\n",
    "    return converted_df\n",
    "\n",
    "converter(train_davis_df)"
   ]
  },
  {
   "cell_type": "code",
   "execution_count": 116,
   "metadata": {},
   "outputs": [],
   "source": [
    "def param_upgrade(df, w1, w2, b, alpha):\n",
    "    df = converter(df)\n",
    "    x1 = df[\"height\"].to_numpy()\n",
    "    x2 = df[\"sex\"].to_numpy()\n",
    "    y = df[\"weight\"].to_numpy()\n",
    "    loss = y - w1 * x1 - w2 * x2 - b\n",
    "    dQ_dw1 = -2 * x1.dot(loss) / len(df.index)\n",
    "    dQ_dw2 = -2 * x2.dot(loss) / len(df.index)\n",
    "    dQ_db = -2 * loss.mean()\n",
    "    w1 = w1 - alpha * dQ_dw1\n",
    "    w2 = w2 - alpha * dQ_dw2\n",
    "    b = b - alpha * dQ_db\n",
    "    return w1, w2, b"
   ]
  },
  {
   "cell_type": "markdown",
   "metadata": {},
   "source": [
    "Cреднеквадратическая ошибка"
   ]
  },
  {
   "cell_type": "code",
   "execution_count": 117,
   "metadata": {},
   "outputs": [],
   "source": [
    "def rms_error(df, w1, w2, b):\n",
    "    df = converter(df)\n",
    "    x1 = df[\"height\"].to_numpy()\n",
    "    x2 = df[\"sex\"].to_numpy()\n",
    "    y = df[\"weight\"].to_numpy()\n",
    "    loss = y - w1 * x1 - w2 * x2 - b\n",
    "    error = loss ** 2\n",
    "    return error.mean()"
   ]
  },
  {
   "cell_type": "code",
   "execution_count": 118,
   "metadata": {},
   "outputs": [],
   "source": [
    "def predict(x1, x2, w1, w2, b):\n",
    "    return w1 * x1 + w2 * x2 + b;"
   ]
  },
  {
   "cell_type": "code",
   "execution_count": 119,
   "metadata": {},
   "outputs": [],
   "source": [
    "def gradient_descent_2(df, epoches_N, alpha):   \n",
    "    w1 = -1\n",
    "    w2 = -1\n",
    "    b = -1\n",
    "    w1_history = []\n",
    "    w2_history = []\n",
    "    b_history = []\n",
    "    loss_history = []\n",
    "    for i in range(epoches_N):\n",
    "        w1, w2, b = param_upgrade(df, w1, w2, b, alpha)\n",
    "        w1_history.append(w1)\n",
    "        w2_history.append(w2)\n",
    "        b_history.append(b)\n",
    "        if i % 200 == 0:\n",
    "            print(f\"Loss in {i} epoch:\" + str(rms_error(df, w1, w2, b)))\n",
    "        loss_history.append(rms_error(df, w1, w2, b))\n",
    "    return w1, w2, b, w1_history, w2_history, b_history, loss_history"
   ]
  },
  {
   "cell_type": "code",
   "execution_count": 120,
   "metadata": {},
   "outputs": [
    {
     "name": "stdout",
     "output_type": "stream",
     "text": [
      "Loss in 0 epoch:7.156625591879315\n",
      "Loss in 200 epoch:2.7615809029122547\n",
      "Loss in 400 epoch:1.2326835996035148\n",
      "Loss in 600 epoch:0.6964961268603349\n",
      "Loss in 800 epoch:0.5062148872560744\n",
      "Loss in 1000 epoch:0.4374035929333499\n",
      "Loss in 1200 epoch:0.41168251851341864\n",
      "Loss in 1400 epoch:0.40145613149150017\n",
      "Loss in 1600 epoch:0.3969095687828797\n",
      "Loss in 1800 epoch:0.3945076129921249\n",
      "Loss in 2000 epoch:0.3929566637267262\n",
      "Loss in 2200 epoch:0.3917737102903605\n",
      "Loss in 2400 epoch:0.39077339811341827\n",
      "Loss in 2600 epoch:0.38988166396875024\n",
      "Loss in 2800 epoch:0.38906694634835043\n",
      "Loss in 3000 epoch:0.38831433582700564\n",
      "Loss in 3200 epoch:0.38761566718788276\n",
      "Loss in 3400 epoch:0.38696563916587867\n",
      "Loss in 3600 epoch:0.3863602585241719\n",
      "Loss in 3800 epoch:0.3857961989942693\n",
      "Loss in 4000 epoch:0.38527052789000416\n",
      "Loss in 4200 epoch:0.38478058362401507\n",
      "Loss in 4400 epoch:0.3843239165263777\n",
      "Loss in 4600 epoch:0.38389825688582874\n",
      "Loss in 4800 epoch:0.38350149508536946\n",
      "Loss in 5000 epoch:0.383131667379213\n",
      "Loss in 5200 epoch:0.38278694450924905\n",
      "Loss in 5400 epoch:0.382465621918416\n",
      "Loss in 5600 epoch:0.3821661109930006\n",
      "Loss in 5800 epoch:0.38188693106145516\n",
      "Loss in 6000 epoch:0.38162670200860965\n",
      "Loss in 6200 epoch:0.3813841374235581\n",
      "Loss in 6400 epoch:0.3811580382271568\n",
      "Loss in 6600 epoch:0.3809472867385931\n",
      "Loss in 6800 epoch:0.38075084114764146\n",
      "Loss in 7000 epoch:0.38056773036345964\n",
      "Loss in 7200 epoch:0.3803970492136432\n",
      "Loss in 7400 epoch:0.380237953969436\n",
      "Loss in 7600 epoch:0.38008965817481233\n",
      "Loss in 7800 epoch:0.37995142875873666\n",
      "Loss in 8000 epoch:0.37982258241134736\n",
      "Loss in 8200 epoch:0.37970248220614067\n",
      "Loss in 8400 epoch:0.37959053445144486\n",
      "Loss in 8600 epoch:0.37948618575562043\n",
      "Loss in 8800 epoch:0.3793889202914768\n",
      "Loss in 9000 epoch:0.3792982572463823\n",
      "Loss in 9200 epoch:0.37921374844546096\n",
      "Loss in 9400 epoch:0.37913497613612906\n",
      "Loss in 9600 epoch:0.3790615509230172\n",
      "Loss in 9800 epoch:0.37899310984307094\n"
     ]
    }
   ],
   "source": [
    "w1, w2, b, w1_history, w2_history, b_history, loss_history = gradient_descent_2(normalize(train_davis_df), 10000, 0.001)"
   ]
  },
  {
   "cell_type": "code",
   "execution_count": 121,
   "metadata": {},
   "outputs": [
    {
     "data": {
      "text/plain": [
       "(0.5616490260965307, 0.5472893561828658, -0.23721426120282446)"
      ]
     },
     "execution_count": 121,
     "metadata": {},
     "output_type": "execute_result"
    }
   ],
   "source": [
    "w1, w2, b"
   ]
  },
  {
   "cell_type": "code",
   "execution_count": 122,
   "metadata": {},
   "outputs": [
    {
     "data": {
      "text/plain": [
       "<matplotlib.legend.Legend at 0x14ff2935288>"
      ]
     },
     "execution_count": 122,
     "metadata": {},
     "output_type": "execute_result"
    },
    {
     "data": {
      "image/png": "[encoded data removed]",
      "text/plain": [
       "<Figure size 936x504 with 1 Axes>"
      ]
     },
     "metadata": {
      "needs_background": "light"
     },
     "output_type": "display_data"
    }
   ],
   "source": [
    "norm_test_df_male = normalize(test_davis_df[test_davis_df[\"sex\"] == \"M\"])\n",
    "norm_test_df_female = normalize(test_davis_df[test_davis_df[\"sex\"] == \"F\"])\n",
    "x1_male = norm_test_df_male[\"height\"]\n",
    "x1_female = norm_test_df_female[\"height\"]\n",
    "x2_male = 1\n",
    "x2_female = 0\n",
    "y_male = norm_test_df_male[\"weight\"]\n",
    "y_female = norm_test_df_female[\"weight\"]\n",
    "plt.scatter(x1_male, y_male, label=\"M\")\n",
    "plt.scatter(x1_female, y_female, label=\"F\")\n",
    "plt.plot(x1_male, predict(x1_male, x2_male, w1, w2, b), label=\"Predicted male\")\n",
    "plt.plot(x1_female, predict(x1_female, x2_female, w1, w2, b), label=\"Predicted female\")\n",
    "plt.xlabel(\"height\")\n",
    "plt.ylabel(\"weight\")\n",
    "plt.legend()"
   ]
  },
  {
   "cell_type": "code",
   "execution_count": null,
   "metadata": {},
   "outputs": [],
   "source": []
  }
 ],
 "metadata": {
  "kernelspec": {
   "display_name": "Python 3",
   "language": "python",
   "name": "python3"
  },
  "language_info": {
   "codemirror_mode": {
    "name": "ipython",
    "version": 3
   },
   "file_extension": ".py",
   "mimetype": "text/x-python",
   "name": "python",
   "nbconvert_exporter": "python",
   "pygments_lexer": "ipython3",
   "version": "3.7.4"
  }
 },
 "nbformat": 4,
 "nbformat_minor": 4
}
